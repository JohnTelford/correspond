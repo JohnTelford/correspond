{
 "cells": [
  {
   "cell_type": "code",
   "execution_count": null,
   "metadata": {},
   "outputs": [],
   "source": [
    "## Correspondences "
   ]
  },
  {
   "attachments": {},
   "cell_type": "markdown",
   "metadata": {
    "tags": [
     "HOA"
    ]
   },
   "source": [
    "Duand\n",
    "\n",
    "# Hello Duane\n",
    " \n",
    " I think this may sums up what I have been trying to communicate to the HOA and Kappes-Miller for the last 3 years. \n",
    "  \n",
    "## Washington County Information\n",
    "\n",
    "The official legal documentation is The Washington County record CCR BOOK 1060, PAGE 566. The specification for unit 43 and unit 44 are the identical, meaning they have the same Limited Common Area. There is no documentation on file with Washington County that contradicts this legal document.\n",
    "  \n",
    "![Limited Common Area Units 43 and 44](img/Limited%20Common%20Area%20Unite%20%2043%20%2044.jpeg)\n",
    "\n",
    "## Bottom Line\n",
    "\n",
    "We are Unit 43. The yellow outline is what the HOA and Kappes-Miller have  maintained is *Common Area* for the last 3 years. This claim disputes the official legal documentation in The Washington County record CCR BOOK 1060, PAGE 566.\n",
    "\n",
    "Our unit 43 total backyard needs to be equal unit44 and properly fenced. \n",
    "\n",
    "\n",
    "Thank you for your help\n",
    "\n",
    "John and Mary Telford   \n",
    "9210 SW Wilshire St  \n",
    "Portland, OR 97225  \n",
    "John Email: john@johntelford.com  \n",
    "John Phone & Text: 503-312-7248  \n",
    "Mary Email: mary@mary774telford.com  \n",
    "Mary Phone & Text: 503-312-\n"
   ]
  },
  {
   "attachments": {},
   "cell_type": "markdown",
   "metadata": {},
   "source": [
    "HOA Facts\n",
    "\n",
    "\n",
    "**PAGE 4 DECLARATION Book 1060 Page 569**\n",
    "\n",
    "(3.3)  Unit Designation\n",
    "\n",
    "47 B-Mt. Laurel , Space: 1252 , Percentage of Interest in\n",
    "Common Elements 1.8765\n",
    "\n",
    "(4) - General Common Elements.\n",
    "\n",
    "**PAGE 5 - DECLARATION Book 1060 page 570**\n",
    "\n",
    "*Each unit shall be entitled to a percentage ownership\n",
    "in the general common elements as set forth above in Section 3.3\n",
    "and shall be liable for the general common expenses in the\n",
    "same proportion.*\n",
    "\n",
    "**PAGE 8 DECLARATION 500 Book 1060 Page 573**\n",
    "\n",
    "(6) Limited Common Elements.\n",
    "…\n",
    "\n",
    "*The limited common elements shall be maintained at the expense\n",
    "of the unit owners to whom their use is limited. The Board\n",
    "of Directors shall establish special reserve fund to be\n",
    "created by assessments of the owners of units to which these\n",
    "limited common elements are assigned to provide for the maintenance and upkeep of the same.*"
   ]
  }
 ],
 "metadata": {
  "language_info": {
   "name": "python"
  },
  "orig_nbformat": 4
 },
 "nbformat": 4,
 "nbformat_minor": 2
}
